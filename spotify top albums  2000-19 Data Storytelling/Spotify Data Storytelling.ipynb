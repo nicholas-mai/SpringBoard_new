{
 "cells": [
  {
   "cell_type": "code",
   "execution_count": 10,
   "id": "d7ce696a",
   "metadata": {},
   "outputs": [],
   "source": [
    "# import packages\n",
    "import pandas as pd\n",
    "import numpy as np\n",
    "import matplotlib.pyplot as plt\n",
    "import seaborn as sns"
   ]
  },
  {
   "cell_type": "code",
   "execution_count": 2,
   "id": "ec6f2e43",
   "metadata": {},
   "outputs": [],
   "source": [
    "# import data\n",
    "df = pd.read_csv('songs_normalize.csv')"
   ]
  },
  {
   "cell_type": "markdown",
   "id": "f9f82e1d",
   "metadata": {},
   "source": [
    "Dataset contains audio statistics of the top 2000 tracks on Spotify from 2000-2019. The data contains about 18 columns each describing the track and it's qualities."
   ]
  },
  {
   "cell_type": "markdown",
   "id": "71b03167",
   "metadata": {},
   "source": [
    "### Content: Column Information\n",
    "    artist: Name of the Artist.\n",
    "    \n",
    "    song: Name of the Track.\n",
    "    \n",
    "    duration_ms: Duration of the track in milliseconds.\n",
    "    \n",
    "    explicit: The lyrics or content of a song or a music video contain one or more of the criteria which could be considered offensive or unsuitable for children.\n",
    "    \n",
    "    year: Release Year of the track.\n",
    "    \n",
    "    popularity: The higher the value the more popular the song is.\n",
    "    \n",
    "    danceability: Danceability describes how suitable a track is for dancing based on a combination of musical elements including tempo, rhythm stability, beat strength, and overall regularity. A value of 0.0 is least danceable and 1.0 is most danceable.\n",
    "    \n",
    "    energy: Energy is a measure from 0.0 to 1.0 and represents a perceptual measure of intensity and activity.\n",
    "    \n",
    "    key: The key the track is in. Integers map to pitches using standard Pitch Class notation. E.g. 0 = C, 1 = C♯/D♭, 2 = D, and so on. If no key was detected, the value is -1.\n",
    "    \n",
    "    loudness: The overall loudness of a track in decibels (dB). Loudness values are averaged across the entire track and are useful for comparing relative loudness of tracks. Loudness is the quality of a sound that is the primary psychological correlate of physical strength (amplitude). Values typically range between -60 and 0 db.\n",
    "    \n",
    "    mode: Mode indicates the modality (major or minor) of a track, the type of scale from which its melodic content is derived. Major is represented by 1 and minor is 0.\n",
    "    \n",
    "    speechiness: Speechiness detects the presence of spoken words in a track. The more exclusively speech-like the recording (e.g. talk show, audio book, poetry), the closer to 1.0 the attribute value. Values above 0.66 describe tracks that are probably made entirely of spoken words. Values between 0.33 and 0.66 describe tracks that may contain both music and speech, either in sections or layered, including such cases as rap music. Values below 0.33 most likely represent music and other non-speech-like tracks.\n",
    "    \n",
    "    acousticness: A confidence measure from 0.0 to 1.0 of whether the track is acoustic. 1.0 represents high confidence the track is acoustic.\n",
    "    \n",
    "    instrumentalness: Predicts whether a track contains no vocals. \"Ooh\" and \"aah\" sounds are treated as instrumental in this context. Rap or spoken word tracks are clearly \"vocal\". The closer the instrumentalness value is to 1.0, the greater likelihood the track contains no vocal content. Values above 0.5 are intended to represent instrumental tracks, but confidence is higher as the value approaches 1.0.\n",
    "    \n",
    "    liveness: Detects the presence of an audience in the recording. Higher liveness values represent an increased probability that the track was performed live. A value above 0.8 provides strong likelihood that the track is live.\n",
    "    \n",
    "    valence: A measure from 0.0 to 1.0 describing the musical positiveness conveyed by a track. Tracks with high valence sound more positive (e.g. happy, cheerful, euphoric), while tracks with low valence sound more negative (e.g. sad, depressed, angry).\n",
    "    \n",
    "    tempo: The overall estimated tempo of a track in beats per minute (BPM). In musical terminology, tempo is the speed or pace of a given piece and derives directly from the average beat duration.\n",
    "    \n",
    "    genre: Genre of the track"
   ]
  },
  {
   "cell_type": "code",
   "execution_count": 15,
   "id": "e3cd9ac1",
   "metadata": {},
   "outputs": [
    {
     "data": {
      "text/plain": [
       "Index(['artist', 'song', 'duration_ms', 'explicit', 'year', 'popularity',\n",
       "       'danceability', 'energy', 'key', 'loudness', 'mode', 'speechiness',\n",
       "       'acousticness', 'instrumentalness', 'liveness', 'valence', 'tempo',\n",
       "       'genre'],\n",
       "      dtype='object')"
      ]
     },
     "execution_count": 15,
     "metadata": {},
     "output_type": "execute_result"
    }
   ],
   "source": [
    "df.columns"
   ]
  },
  {
   "cell_type": "code",
   "execution_count": 3,
   "id": "d9afa028",
   "metadata": {},
   "outputs": [
    {
     "data": {
      "text/html": [
       "<div>\n",
       "<style scoped>\n",
       "    .dataframe tbody tr th:only-of-type {\n",
       "        vertical-align: middle;\n",
       "    }\n",
       "\n",
       "    .dataframe tbody tr th {\n",
       "        vertical-align: top;\n",
       "    }\n",
       "\n",
       "    .dataframe thead th {\n",
       "        text-align: right;\n",
       "    }\n",
       "</style>\n",
       "<table border=\"1\" class=\"dataframe\">\n",
       "  <thead>\n",
       "    <tr style=\"text-align: right;\">\n",
       "      <th></th>\n",
       "      <th>artist</th>\n",
       "      <th>song</th>\n",
       "      <th>duration_ms</th>\n",
       "      <th>explicit</th>\n",
       "      <th>year</th>\n",
       "      <th>popularity</th>\n",
       "      <th>danceability</th>\n",
       "      <th>energy</th>\n",
       "      <th>key</th>\n",
       "      <th>loudness</th>\n",
       "      <th>mode</th>\n",
       "      <th>speechiness</th>\n",
       "      <th>acousticness</th>\n",
       "      <th>instrumentalness</th>\n",
       "      <th>liveness</th>\n",
       "      <th>valence</th>\n",
       "      <th>tempo</th>\n",
       "      <th>genre</th>\n",
       "    </tr>\n",
       "  </thead>\n",
       "  <tbody>\n",
       "    <tr>\n",
       "      <th>0</th>\n",
       "      <td>Britney Spears</td>\n",
       "      <td>Oops!...I Did It Again</td>\n",
       "      <td>211160</td>\n",
       "      <td>False</td>\n",
       "      <td>2000</td>\n",
       "      <td>77</td>\n",
       "      <td>0.751</td>\n",
       "      <td>0.834</td>\n",
       "      <td>1</td>\n",
       "      <td>-5.444</td>\n",
       "      <td>0</td>\n",
       "      <td>0.0437</td>\n",
       "      <td>0.3000</td>\n",
       "      <td>0.000018</td>\n",
       "      <td>0.3550</td>\n",
       "      <td>0.894</td>\n",
       "      <td>95.053</td>\n",
       "      <td>pop</td>\n",
       "    </tr>\n",
       "    <tr>\n",
       "      <th>1</th>\n",
       "      <td>blink-182</td>\n",
       "      <td>All The Small Things</td>\n",
       "      <td>167066</td>\n",
       "      <td>False</td>\n",
       "      <td>1999</td>\n",
       "      <td>79</td>\n",
       "      <td>0.434</td>\n",
       "      <td>0.897</td>\n",
       "      <td>0</td>\n",
       "      <td>-4.918</td>\n",
       "      <td>1</td>\n",
       "      <td>0.0488</td>\n",
       "      <td>0.0103</td>\n",
       "      <td>0.000000</td>\n",
       "      <td>0.6120</td>\n",
       "      <td>0.684</td>\n",
       "      <td>148.726</td>\n",
       "      <td>rock, pop</td>\n",
       "    </tr>\n",
       "    <tr>\n",
       "      <th>2</th>\n",
       "      <td>Faith Hill</td>\n",
       "      <td>Breathe</td>\n",
       "      <td>250546</td>\n",
       "      <td>False</td>\n",
       "      <td>1999</td>\n",
       "      <td>66</td>\n",
       "      <td>0.529</td>\n",
       "      <td>0.496</td>\n",
       "      <td>7</td>\n",
       "      <td>-9.007</td>\n",
       "      <td>1</td>\n",
       "      <td>0.0290</td>\n",
       "      <td>0.1730</td>\n",
       "      <td>0.000000</td>\n",
       "      <td>0.2510</td>\n",
       "      <td>0.278</td>\n",
       "      <td>136.859</td>\n",
       "      <td>pop, country</td>\n",
       "    </tr>\n",
       "    <tr>\n",
       "      <th>3</th>\n",
       "      <td>Bon Jovi</td>\n",
       "      <td>It's My Life</td>\n",
       "      <td>224493</td>\n",
       "      <td>False</td>\n",
       "      <td>2000</td>\n",
       "      <td>78</td>\n",
       "      <td>0.551</td>\n",
       "      <td>0.913</td>\n",
       "      <td>0</td>\n",
       "      <td>-4.063</td>\n",
       "      <td>0</td>\n",
       "      <td>0.0466</td>\n",
       "      <td>0.0263</td>\n",
       "      <td>0.000013</td>\n",
       "      <td>0.3470</td>\n",
       "      <td>0.544</td>\n",
       "      <td>119.992</td>\n",
       "      <td>rock, metal</td>\n",
       "    </tr>\n",
       "    <tr>\n",
       "      <th>4</th>\n",
       "      <td>*NSYNC</td>\n",
       "      <td>Bye Bye Bye</td>\n",
       "      <td>200560</td>\n",
       "      <td>False</td>\n",
       "      <td>2000</td>\n",
       "      <td>65</td>\n",
       "      <td>0.614</td>\n",
       "      <td>0.928</td>\n",
       "      <td>8</td>\n",
       "      <td>-4.806</td>\n",
       "      <td>0</td>\n",
       "      <td>0.0516</td>\n",
       "      <td>0.0408</td>\n",
       "      <td>0.001040</td>\n",
       "      <td>0.0845</td>\n",
       "      <td>0.879</td>\n",
       "      <td>172.656</td>\n",
       "      <td>pop</td>\n",
       "    </tr>\n",
       "  </tbody>\n",
       "</table>\n",
       "</div>"
      ],
      "text/plain": [
       "           artist                    song  duration_ms  explicit  year  \\\n",
       "0  Britney Spears  Oops!...I Did It Again       211160     False  2000   \n",
       "1       blink-182    All The Small Things       167066     False  1999   \n",
       "2      Faith Hill                 Breathe       250546     False  1999   \n",
       "3        Bon Jovi            It's My Life       224493     False  2000   \n",
       "4          *NSYNC             Bye Bye Bye       200560     False  2000   \n",
       "\n",
       "   popularity  danceability  energy  key  loudness  mode  speechiness  \\\n",
       "0          77         0.751   0.834    1    -5.444     0       0.0437   \n",
       "1          79         0.434   0.897    0    -4.918     1       0.0488   \n",
       "2          66         0.529   0.496    7    -9.007     1       0.0290   \n",
       "3          78         0.551   0.913    0    -4.063     0       0.0466   \n",
       "4          65         0.614   0.928    8    -4.806     0       0.0516   \n",
       "\n",
       "   acousticness  instrumentalness  liveness  valence    tempo         genre  \n",
       "0        0.3000          0.000018    0.3550    0.894   95.053           pop  \n",
       "1        0.0103          0.000000    0.6120    0.684  148.726     rock, pop  \n",
       "2        0.1730          0.000000    0.2510    0.278  136.859  pop, country  \n",
       "3        0.0263          0.000013    0.3470    0.544  119.992   rock, metal  \n",
       "4        0.0408          0.001040    0.0845    0.879  172.656           pop  "
      ]
     },
     "execution_count": 3,
     "metadata": {},
     "output_type": "execute_result"
    }
   ],
   "source": [
    "df.head(5)"
   ]
  },
  {
   "cell_type": "code",
   "execution_count": 4,
   "id": "c4a1efb3",
   "metadata": {},
   "outputs": [
    {
     "data": {
      "text/plain": [
       "artist              0\n",
       "song                0\n",
       "duration_ms         0\n",
       "explicit            0\n",
       "year                0\n",
       "popularity          0\n",
       "danceability        0\n",
       "energy              0\n",
       "key                 0\n",
       "loudness            0\n",
       "mode                0\n",
       "speechiness         0\n",
       "acousticness        0\n",
       "instrumentalness    0\n",
       "liveness            0\n",
       "valence             0\n",
       "tempo               0\n",
       "genre               0\n",
       "dtype: int64"
      ]
     },
     "execution_count": 4,
     "metadata": {},
     "output_type": "execute_result"
    }
   ],
   "source": [
    "# Verify there are no missing values\n",
    "df.isna().sum()"
   ]
  },
  {
   "cell_type": "code",
   "execution_count": 16,
   "id": "adcbbb1c",
   "metadata": {},
   "outputs": [
    {
     "name": "stdout",
     "output_type": "stream",
     "text": [
      "<class 'pandas.core.frame.DataFrame'>\n",
      "RangeIndex: 2000 entries, 0 to 1999\n",
      "Data columns (total 18 columns):\n",
      " #   Column            Non-Null Count  Dtype  \n",
      "---  ------            --------------  -----  \n",
      " 0   artist            2000 non-null   object \n",
      " 1   song              2000 non-null   object \n",
      " 2   duration_ms       2000 non-null   int64  \n",
      " 3   explicit          2000 non-null   bool   \n",
      " 4   year              2000 non-null   int64  \n",
      " 5   popularity        2000 non-null   int64  \n",
      " 6   danceability      2000 non-null   float64\n",
      " 7   energy            2000 non-null   float64\n",
      " 8   key               2000 non-null   int64  \n",
      " 9   loudness          2000 non-null   float64\n",
      " 10  mode              2000 non-null   int64  \n",
      " 11  speechiness       2000 non-null   float64\n",
      " 12  acousticness      2000 non-null   float64\n",
      " 13  instrumentalness  2000 non-null   float64\n",
      " 14  liveness          2000 non-null   float64\n",
      " 15  valence           2000 non-null   float64\n",
      " 16  tempo             2000 non-null   float64\n",
      " 17  genre             2000 non-null   object \n",
      "dtypes: bool(1), float64(9), int64(5), object(3)\n",
      "memory usage: 267.7+ KB\n"
     ]
    }
   ],
   "source": [
    "df.info()"
   ]
  },
  {
   "cell_type": "code",
   "execution_count": 17,
   "id": "8e146184",
   "metadata": {},
   "outputs": [
    {
     "data": {
      "text/plain": [
       "(2000, 835)"
      ]
     },
     "execution_count": 17,
     "metadata": {},
     "output_type": "execute_result"
    }
   ],
   "source": [
    "#Total number of unique artists out of 2000 songs\n",
    "df.shape[0], df.artist.nunique()"
   ]
  },
  {
   "cell_type": "markdown",
   "id": "48d9898c",
   "metadata": {},
   "source": [
    "### Target Audiance: Executive w/ Technical experience"
   ]
  },
  {
   "cell_type": "markdown",
   "id": "7dfebc78",
   "metadata": {},
   "source": [
    "#### Topics to be addressed: \n",
    "    What is the most popular song?\n",
    "    What is the relatinship between popularity and other factors?\n",
    "        - Danceability, energy, loudness, etc.\n",
    "    Which factors have the greatest relationship to popularity?\n",
    "    What is the relatinship between years, has taste changed?\n",
    "    What factors have become more popular over the years\n",
    "            "
   ]
  },
  {
   "cell_type": "code",
   "execution_count": 5,
   "id": "29789b0f",
   "metadata": {},
   "outputs": [
    {
     "data": {
      "text/html": [
       "<div>\n",
       "<style scoped>\n",
       "    .dataframe tbody tr th:only-of-type {\n",
       "        vertical-align: middle;\n",
       "    }\n",
       "\n",
       "    .dataframe tbody tr th {\n",
       "        vertical-align: top;\n",
       "    }\n",
       "\n",
       "    .dataframe thead th {\n",
       "        text-align: right;\n",
       "    }\n",
       "</style>\n",
       "<table border=\"1\" class=\"dataframe\">\n",
       "  <thead>\n",
       "    <tr style=\"text-align: right;\">\n",
       "      <th></th>\n",
       "      <th>artist</th>\n",
       "      <th>song</th>\n",
       "      <th>popularity</th>\n",
       "    </tr>\n",
       "  </thead>\n",
       "  <tbody>\n",
       "    <tr>\n",
       "      <th>1322</th>\n",
       "      <td>The Neighbourhood</td>\n",
       "      <td>Sweater Weather</td>\n",
       "      <td>89</td>\n",
       "    </tr>\n",
       "    <tr>\n",
       "      <th>1311</th>\n",
       "      <td>Tom Odell</td>\n",
       "      <td>Another Love</td>\n",
       "      <td>88</td>\n",
       "    </tr>\n",
       "    <tr>\n",
       "      <th>201</th>\n",
       "      <td>Eminem</td>\n",
       "      <td>Without Me</td>\n",
       "      <td>87</td>\n",
       "    </tr>\n",
       "    <tr>\n",
       "      <th>1613</th>\n",
       "      <td>WILLOW</td>\n",
       "      <td>Wait a Minute!</td>\n",
       "      <td>86</td>\n",
       "    </tr>\n",
       "    <tr>\n",
       "      <th>6</th>\n",
       "      <td>Eminem</td>\n",
       "      <td>The Real Slim Shady</td>\n",
       "      <td>86</td>\n",
       "    </tr>\n",
       "    <tr>\n",
       "      <th>1929</th>\n",
       "      <td>Billie Eilish</td>\n",
       "      <td>lovely (with Khalid)</td>\n",
       "      <td>86</td>\n",
       "    </tr>\n",
       "    <tr>\n",
       "      <th>1819</th>\n",
       "      <td>Billie Eilish</td>\n",
       "      <td>lovely (with Khalid)</td>\n",
       "      <td>86</td>\n",
       "    </tr>\n",
       "    <tr>\n",
       "      <th>1512</th>\n",
       "      <td>The Neighbourhood</td>\n",
       "      <td>Daddy Issues</td>\n",
       "      <td>85</td>\n",
       "    </tr>\n",
       "    <tr>\n",
       "      <th>1709</th>\n",
       "      <td>Ed Sheeran</td>\n",
       "      <td>Perfect</td>\n",
       "      <td>85</td>\n",
       "    </tr>\n",
       "    <tr>\n",
       "      <th>1999</th>\n",
       "      <td>Post Malone</td>\n",
       "      <td>Circles</td>\n",
       "      <td>85</td>\n",
       "    </tr>\n",
       "  </tbody>\n",
       "</table>\n",
       "</div>"
      ],
      "text/plain": [
       "                 artist                  song  popularity\n",
       "1322  The Neighbourhood       Sweater Weather          89\n",
       "1311          Tom Odell          Another Love          88\n",
       "201              Eminem            Without Me          87\n",
       "1613             WILLOW        Wait a Minute!          86\n",
       "6                Eminem   The Real Slim Shady          86\n",
       "1929      Billie Eilish  lovely (with Khalid)          86\n",
       "1819      Billie Eilish  lovely (with Khalid)          86\n",
       "1512  The Neighbourhood          Daddy Issues          85\n",
       "1709         Ed Sheeran               Perfect          85\n",
       "1999        Post Malone               Circles          85"
      ]
     },
     "execution_count": 5,
     "metadata": {},
     "output_type": "execute_result"
    }
   ],
   "source": [
    "# Most popular songs \n",
    "pop = pd.DataFrame(columns=['artist','song','popularity'] ,data=df)\n",
    "pop.sort_values(by=['popularity'], ascending=False).head(10)"
   ]
  },
  {
   "cell_type": "markdown",
   "id": "6376807d",
   "metadata": {},
   "source": [
    "Above is the listed 10 most popular songs, there is a repeat with Billie Eilish's song Lovely"
   ]
  },
  {
   "cell_type": "code",
   "execution_count": 8,
   "id": "f8bc569d",
   "metadata": {},
   "outputs": [
    {
     "data": {
      "text/html": [
       "<div>\n",
       "<style scoped>\n",
       "    .dataframe tbody tr th:only-of-type {\n",
       "        vertical-align: middle;\n",
       "    }\n",
       "\n",
       "    .dataframe tbody tr th {\n",
       "        vertical-align: top;\n",
       "    }\n",
       "\n",
       "    .dataframe thead th {\n",
       "        text-align: right;\n",
       "    }\n",
       "</style>\n",
       "<table border=\"1\" class=\"dataframe\">\n",
       "  <thead>\n",
       "    <tr style=\"text-align: right;\">\n",
       "      <th></th>\n",
       "      <th>artist</th>\n",
       "      <th>song</th>\n",
       "      <th>duration_ms</th>\n",
       "      <th>explicit</th>\n",
       "      <th>year</th>\n",
       "      <th>popularity</th>\n",
       "      <th>danceability</th>\n",
       "      <th>energy</th>\n",
       "      <th>key</th>\n",
       "      <th>loudness</th>\n",
       "      <th>mode</th>\n",
       "      <th>speechiness</th>\n",
       "      <th>acousticness</th>\n",
       "      <th>instrumentalness</th>\n",
       "      <th>liveness</th>\n",
       "      <th>valence</th>\n",
       "      <th>tempo</th>\n",
       "      <th>genre</th>\n",
       "    </tr>\n",
       "  </thead>\n",
       "  <tbody>\n",
       "    <tr>\n",
       "      <th>1929</th>\n",
       "      <td>Billie Eilish</td>\n",
       "      <td>lovely (with Khalid)</td>\n",
       "      <td>200185</td>\n",
       "      <td>False</td>\n",
       "      <td>2018</td>\n",
       "      <td>86</td>\n",
       "      <td>0.351</td>\n",
       "      <td>0.296</td>\n",
       "      <td>4</td>\n",
       "      <td>-10.109</td>\n",
       "      <td>0</td>\n",
       "      <td>0.0333</td>\n",
       "      <td>0.934</td>\n",
       "      <td>0.0</td>\n",
       "      <td>0.095</td>\n",
       "      <td>0.12</td>\n",
       "      <td>115.284</td>\n",
       "      <td>pop, Dance/Electronic</td>\n",
       "    </tr>\n",
       "    <tr>\n",
       "      <th>1819</th>\n",
       "      <td>Billie Eilish</td>\n",
       "      <td>lovely (with Khalid)</td>\n",
       "      <td>200185</td>\n",
       "      <td>False</td>\n",
       "      <td>2018</td>\n",
       "      <td>86</td>\n",
       "      <td>0.351</td>\n",
       "      <td>0.296</td>\n",
       "      <td>4</td>\n",
       "      <td>-10.109</td>\n",
       "      <td>0</td>\n",
       "      <td>0.0333</td>\n",
       "      <td>0.934</td>\n",
       "      <td>0.0</td>\n",
       "      <td>0.095</td>\n",
       "      <td>0.12</td>\n",
       "      <td>115.284</td>\n",
       "      <td>pop, Dance/Electronic</td>\n",
       "    </tr>\n",
       "  </tbody>\n",
       "</table>\n",
       "</div>"
      ],
      "text/plain": [
       "             artist                  song  duration_ms  explicit  year  \\\n",
       "1929  Billie Eilish  lovely (with Khalid)       200185     False  2018   \n",
       "1819  Billie Eilish  lovely (with Khalid)       200185     False  2018   \n",
       "\n",
       "      popularity  danceability  energy  key  loudness  mode  speechiness  \\\n",
       "1929          86         0.351   0.296    4   -10.109     0       0.0333   \n",
       "1819          86         0.351   0.296    4   -10.109     0       0.0333   \n",
       "\n",
       "      acousticness  instrumentalness  liveness  valence    tempo  \\\n",
       "1929         0.934               0.0     0.095     0.12  115.284   \n",
       "1819         0.934               0.0     0.095     0.12  115.284   \n",
       "\n",
       "                      genre  \n",
       "1929  pop, Dance/Electronic  \n",
       "1819  pop, Dance/Electronic  "
      ]
     },
     "execution_count": 8,
     "metadata": {},
     "output_type": "execute_result"
    }
   ],
   "source": [
    "df.loc[[1929,1819],:]"
   ]
  },
  {
   "cell_type": "code",
   "execution_count": 6,
   "id": "9d915938",
   "metadata": {},
   "outputs": [],
   "source": [
    "# Remove Duplicate values \n",
    "pop.drop_duplicates(subset='song',keep='first',inplace=True)"
   ]
  },
  {
   "cell_type": "code",
   "execution_count": 7,
   "id": "c74bea6f",
   "metadata": {},
   "outputs": [
    {
     "data": {
      "text/html": [
       "<div>\n",
       "<style scoped>\n",
       "    .dataframe tbody tr th:only-of-type {\n",
       "        vertical-align: middle;\n",
       "    }\n",
       "\n",
       "    .dataframe tbody tr th {\n",
       "        vertical-align: top;\n",
       "    }\n",
       "\n",
       "    .dataframe thead th {\n",
       "        text-align: right;\n",
       "    }\n",
       "</style>\n",
       "<table border=\"1\" class=\"dataframe\">\n",
       "  <thead>\n",
       "    <tr style=\"text-align: right;\">\n",
       "      <th></th>\n",
       "      <th>artist</th>\n",
       "      <th>song</th>\n",
       "      <th>popularity</th>\n",
       "    </tr>\n",
       "  </thead>\n",
       "  <tbody>\n",
       "    <tr>\n",
       "      <th>1322</th>\n",
       "      <td>The Neighbourhood</td>\n",
       "      <td>Sweater Weather</td>\n",
       "      <td>89</td>\n",
       "    </tr>\n",
       "    <tr>\n",
       "      <th>1311</th>\n",
       "      <td>Tom Odell</td>\n",
       "      <td>Another Love</td>\n",
       "      <td>88</td>\n",
       "    </tr>\n",
       "    <tr>\n",
       "      <th>201</th>\n",
       "      <td>Eminem</td>\n",
       "      <td>Without Me</td>\n",
       "      <td>87</td>\n",
       "    </tr>\n",
       "    <tr>\n",
       "      <th>1819</th>\n",
       "      <td>Billie Eilish</td>\n",
       "      <td>lovely (with Khalid)</td>\n",
       "      <td>86</td>\n",
       "    </tr>\n",
       "    <tr>\n",
       "      <th>1613</th>\n",
       "      <td>WILLOW</td>\n",
       "      <td>Wait a Minute!</td>\n",
       "      <td>86</td>\n",
       "    </tr>\n",
       "    <tr>\n",
       "      <th>6</th>\n",
       "      <td>Eminem</td>\n",
       "      <td>The Real Slim Shady</td>\n",
       "      <td>86</td>\n",
       "    </tr>\n",
       "    <tr>\n",
       "      <th>1514</th>\n",
       "      <td>Avicii</td>\n",
       "      <td>The Nights</td>\n",
       "      <td>85</td>\n",
       "    </tr>\n",
       "    <tr>\n",
       "      <th>1512</th>\n",
       "      <td>The Neighbourhood</td>\n",
       "      <td>Daddy Issues</td>\n",
       "      <td>85</td>\n",
       "    </tr>\n",
       "    <tr>\n",
       "      <th>1227</th>\n",
       "      <td>Bruno Mars</td>\n",
       "      <td>Locked out of Heaven</td>\n",
       "      <td>85</td>\n",
       "    </tr>\n",
       "    <tr>\n",
       "      <th>1999</th>\n",
       "      <td>Post Malone</td>\n",
       "      <td>Circles</td>\n",
       "      <td>85</td>\n",
       "    </tr>\n",
       "  </tbody>\n",
       "</table>\n",
       "</div>"
      ],
      "text/plain": [
       "                 artist                  song  popularity\n",
       "1322  The Neighbourhood       Sweater Weather          89\n",
       "1311          Tom Odell          Another Love          88\n",
       "201              Eminem            Without Me          87\n",
       "1819      Billie Eilish  lovely (with Khalid)          86\n",
       "1613             WILLOW        Wait a Minute!          86\n",
       "6                Eminem   The Real Slim Shady          86\n",
       "1514             Avicii            The Nights          85\n",
       "1512  The Neighbourhood          Daddy Issues          85\n",
       "1227         Bruno Mars  Locked out of Heaven          85\n",
       "1999        Post Malone               Circles          85"
      ]
     },
     "execution_count": 7,
     "metadata": {},
     "output_type": "execute_result"
    }
   ],
   "source": [
    "pop.sort_values(by=['popularity'], ascending=False).head(10)"
   ]
  },
  {
   "cell_type": "code",
   "execution_count": 13,
   "id": "1bb40e10",
   "metadata": {},
   "outputs": [
    {
     "data": {
      "image/png": "[encoded data removed]",
      "text/plain": [
       "<Figure size 432x288 with 1 Axes>"
      ]
     },
     "metadata": {
      "needs_background": "light"
     },
     "output_type": "display_data"
    }
   ],
   "source": [
    "# Scatter plot by song popularity and year \n",
    "_ = sns.scatterplot(x='year',y='popularity',data=df)"
   ]
  },
  {
   "cell_type": "markdown",
   "id": "d89d5268",
   "metadata": {},
   "source": [
    "### Finding the top and bottom for other variables"
   ]
  },
  {
   "cell_type": "code",
   "execution_count": 18,
   "id": "cf274621",
   "metadata": {},
   "outputs": [
    {
     "data": {
      "text/plain": [
       "Rihanna              25\n",
       "Drake                23\n",
       "Eminem               21\n",
       "Calvin Harris        20\n",
       "Britney Spears       19\n",
       "David Guetta         18\n",
       "Chris Brown          17\n",
       "Kanye West           17\n",
       "Beyoncé              16\n",
       "Taylor Swift         16\n",
       "Katy Perry           16\n",
       "P!nk                 15\n",
       "Ariana Grande        14\n",
       "Black Eyed Peas      14\n",
       "Coldplay             13\n",
       "Maroon 5             13\n",
       "Jason Derulo         13\n",
       "Bruno Mars           12\n",
       "Justin Timberlake    12\n",
       "JAY-Z                12\n",
       "Name: artist, dtype: int64"
      ]
     },
     "execution_count": 18,
     "metadata": {},
     "output_type": "execute_result"
    }
   ],
   "source": [
    "#Top 20 artists with most number of songs\n",
    "df.artist.value_counts().head(20)"
   ]
  },
  {
   "cell_type": "code",
   "execution_count": 19,
   "id": "879e50b8",
   "metadata": {},
   "outputs": [
    {
     "data": {
      "text/plain": [
       "Plan B                 1\n",
       "Charli Baltimore       1\n",
       "Shontelle              1\n",
       "N.O.R.E.               1\n",
       "Big Brovaz             1\n",
       "Duck Sauce             1\n",
       "K'NAAN                 1\n",
       "Cali Swag District     1\n",
       "Tim Berg               1\n",
       "Sophie Ellis-Bextor    1\n",
       "Yolanda Be Cool        1\n",
       "A1                     1\n",
       "Big Tymers             1\n",
       "Iyaz                   1\n",
       "DJ Sammy               1\n",
       "Sidney Samson          1\n",
       "Cam’ron                1\n",
       "Elvis Presley          1\n",
       "Lucenzo                1\n",
       "Blanco Brown           1\n",
       "Name: artist, dtype: int64"
      ]
     },
     "execution_count": 19,
     "metadata": {},
     "output_type": "execute_result"
    }
   ],
   "source": [
    "#Last 20 artists with least number of songs\n",
    "df.artist.value_counts().tail(20)"
   ]
  },
  {
   "cell_type": "code",
   "execution_count": 20,
   "id": "c86fdb15",
   "metadata": {},
   "outputs": [
    {
     "data": {
      "text/plain": [
       "pop                               428\n",
       "hip hop, pop                      277\n",
       "hip hop, pop, R&B                 244\n",
       "pop, Dance/Electronic             221\n",
       "pop, R&B                          178\n",
       "hip hop                           124\n",
       "hip hop, pop, Dance/Electronic     78\n",
       "rock                               58\n",
       "rock, pop                          43\n",
       "Dance/Electronic                   41\n",
       "Name: genre, dtype: int64"
      ]
     },
     "execution_count": 20,
     "metadata": {},
     "output_type": "execute_result"
    }
   ],
   "source": [
    "#Top 10 genre\n",
    "df.genre.value_counts().head(10)"
   ]
  },
  {
   "cell_type": "code",
   "execution_count": 21,
   "id": "7513416e",
   "metadata": {},
   "outputs": [
    {
     "data": {
      "text/html": [
       "<div>\n",
       "<style scoped>\n",
       "    .dataframe tbody tr th:only-of-type {\n",
       "        vertical-align: middle;\n",
       "    }\n",
       "\n",
       "    .dataframe tbody tr th {\n",
       "        vertical-align: top;\n",
       "    }\n",
       "\n",
       "    .dataframe thead th {\n",
       "        text-align: right;\n",
       "    }\n",
       "</style>\n",
       "<table border=\"1\" class=\"dataframe\">\n",
       "  <thead>\n",
       "    <tr style=\"text-align: right;\">\n",
       "      <th></th>\n",
       "      <th>artist</th>\n",
       "      <th>song</th>\n",
       "      <th>duration_ms</th>\n",
       "      <th>explicit</th>\n",
       "      <th>year</th>\n",
       "      <th>popularity</th>\n",
       "      <th>danceability</th>\n",
       "      <th>energy</th>\n",
       "      <th>key</th>\n",
       "      <th>loudness</th>\n",
       "      <th>mode</th>\n",
       "      <th>speechiness</th>\n",
       "      <th>acousticness</th>\n",
       "      <th>instrumentalness</th>\n",
       "      <th>liveness</th>\n",
       "      <th>valence</th>\n",
       "      <th>tempo</th>\n",
       "      <th>genre</th>\n",
       "    </tr>\n",
       "  </thead>\n",
       "  <tbody>\n",
       "    <tr>\n",
       "      <th>59</th>\n",
       "      <td>Oasis</td>\n",
       "      <td>Go Let It Out</td>\n",
       "      <td>278666</td>\n",
       "      <td>False</td>\n",
       "      <td>2000</td>\n",
       "      <td>0</td>\n",
       "      <td>0.408</td>\n",
       "      <td>0.849</td>\n",
       "      <td>2</td>\n",
       "      <td>-5.631</td>\n",
       "      <td>1</td>\n",
       "      <td>0.0333</td>\n",
       "      <td>0.01360</td>\n",
       "      <td>0.000025</td>\n",
       "      <td>0.5600</td>\n",
       "      <td>0.628</td>\n",
       "      <td>84.192</td>\n",
       "      <td>Folk/Acoustic, rock</td>\n",
       "    </tr>\n",
       "    <tr>\n",
       "      <th>62</th>\n",
       "      <td>Mariah Carey</td>\n",
       "      <td>Against All Odds (Take A Look at Me Now) (feat...</td>\n",
       "      <td>199480</td>\n",
       "      <td>False</td>\n",
       "      <td>2011</td>\n",
       "      <td>0</td>\n",
       "      <td>0.471</td>\n",
       "      <td>0.514</td>\n",
       "      <td>1</td>\n",
       "      <td>-5.599</td>\n",
       "      <td>1</td>\n",
       "      <td>0.0315</td>\n",
       "      <td>0.58400</td>\n",
       "      <td>0.000000</td>\n",
       "      <td>0.1030</td>\n",
       "      <td>0.373</td>\n",
       "      <td>117.338</td>\n",
       "      <td>pop, R&amp;B</td>\n",
       "    </tr>\n",
       "    <tr>\n",
       "      <th>126</th>\n",
       "      <td>Jennifer Lopez</td>\n",
       "      <td>Ain't It Funny</td>\n",
       "      <td>246160</td>\n",
       "      <td>False</td>\n",
       "      <td>2001</td>\n",
       "      <td>0</td>\n",
       "      <td>0.707</td>\n",
       "      <td>0.869</td>\n",
       "      <td>5</td>\n",
       "      <td>-4.525</td>\n",
       "      <td>0</td>\n",
       "      <td>0.0481</td>\n",
       "      <td>0.10400</td>\n",
       "      <td>0.000121</td>\n",
       "      <td>0.0813</td>\n",
       "      <td>0.621</td>\n",
       "      <td>99.825</td>\n",
       "      <td>hip hop, pop, R&amp;B</td>\n",
       "    </tr>\n",
       "    <tr>\n",
       "      <th>175</th>\n",
       "      <td>DB Boulevard</td>\n",
       "      <td>Point Of View - Radio Edit</td>\n",
       "      <td>231166</td>\n",
       "      <td>False</td>\n",
       "      <td>2018</td>\n",
       "      <td>0</td>\n",
       "      <td>0.676</td>\n",
       "      <td>0.715</td>\n",
       "      <td>6</td>\n",
       "      <td>-6.854</td>\n",
       "      <td>1</td>\n",
       "      <td>0.0287</td>\n",
       "      <td>0.00284</td>\n",
       "      <td>0.074600</td>\n",
       "      <td>0.0685</td>\n",
       "      <td>0.275</td>\n",
       "      <td>129.006</td>\n",
       "      <td>Dance/Electronic</td>\n",
       "    </tr>\n",
       "    <tr>\n",
       "      <th>182</th>\n",
       "      <td>Musiq Soulchild</td>\n",
       "      <td>Love</td>\n",
       "      <td>304666</td>\n",
       "      <td>False</td>\n",
       "      <td>2000</td>\n",
       "      <td>0</td>\n",
       "      <td>0.569</td>\n",
       "      <td>0.385</td>\n",
       "      <td>1</td>\n",
       "      <td>-9.919</td>\n",
       "      <td>0</td>\n",
       "      <td>0.0499</td>\n",
       "      <td>0.34200</td>\n",
       "      <td>0.000000</td>\n",
       "      <td>0.0876</td>\n",
       "      <td>0.339</td>\n",
       "      <td>99.738</td>\n",
       "      <td>pop, R&amp;B</td>\n",
       "    </tr>\n",
       "    <tr>\n",
       "      <th>...</th>\n",
       "      <td>...</td>\n",
       "      <td>...</td>\n",
       "      <td>...</td>\n",
       "      <td>...</td>\n",
       "      <td>...</td>\n",
       "      <td>...</td>\n",
       "      <td>...</td>\n",
       "      <td>...</td>\n",
       "      <td>...</td>\n",
       "      <td>...</td>\n",
       "      <td>...</td>\n",
       "      <td>...</td>\n",
       "      <td>...</td>\n",
       "      <td>...</td>\n",
       "      <td>...</td>\n",
       "      <td>...</td>\n",
       "      <td>...</td>\n",
       "      <td>...</td>\n",
       "    </tr>\n",
       "    <tr>\n",
       "      <th>1789</th>\n",
       "      <td>CNCO</td>\n",
       "      <td>Reggaetón Lento (Remix)</td>\n",
       "      <td>188786</td>\n",
       "      <td>False</td>\n",
       "      <td>2017</td>\n",
       "      <td>0</td>\n",
       "      <td>0.623</td>\n",
       "      <td>0.909</td>\n",
       "      <td>4</td>\n",
       "      <td>-3.079</td>\n",
       "      <td>0</td>\n",
       "      <td>0.0758</td>\n",
       "      <td>0.15800</td>\n",
       "      <td>0.000000</td>\n",
       "      <td>0.0972</td>\n",
       "      <td>0.651</td>\n",
       "      <td>93.984</td>\n",
       "      <td>pop, latin</td>\n",
       "    </tr>\n",
       "    <tr>\n",
       "      <th>1794</th>\n",
       "      <td>Shawn Mendes</td>\n",
       "      <td>Mercy</td>\n",
       "      <td>208733</td>\n",
       "      <td>False</td>\n",
       "      <td>2017</td>\n",
       "      <td>0</td>\n",
       "      <td>0.561</td>\n",
       "      <td>0.674</td>\n",
       "      <td>4</td>\n",
       "      <td>-4.882</td>\n",
       "      <td>0</td>\n",
       "      <td>0.0818</td>\n",
       "      <td>0.11800</td>\n",
       "      <td>0.000000</td>\n",
       "      <td>0.1110</td>\n",
       "      <td>0.383</td>\n",
       "      <td>148.127</td>\n",
       "      <td>pop</td>\n",
       "    </tr>\n",
       "    <tr>\n",
       "      <th>1850</th>\n",
       "      <td>Loud Luxury</td>\n",
       "      <td>Body (feat. brando)</td>\n",
       "      <td>163216</td>\n",
       "      <td>False</td>\n",
       "      <td>2017</td>\n",
       "      <td>0</td>\n",
       "      <td>0.752</td>\n",
       "      <td>0.764</td>\n",
       "      <td>1</td>\n",
       "      <td>-4.399</td>\n",
       "      <td>1</td>\n",
       "      <td>0.0380</td>\n",
       "      <td>0.04760</td>\n",
       "      <td>0.000094</td>\n",
       "      <td>0.0543</td>\n",
       "      <td>0.582</td>\n",
       "      <td>121.958</td>\n",
       "      <td>pop, Dance/Electronic</td>\n",
       "    </tr>\n",
       "    <tr>\n",
       "      <th>1913</th>\n",
       "      <td>NLE Choppa</td>\n",
       "      <td>Shotta Flow (feat. Blueface) [Remix]</td>\n",
       "      <td>176631</td>\n",
       "      <td>True</td>\n",
       "      <td>2019</td>\n",
       "      <td>0</td>\n",
       "      <td>0.894</td>\n",
       "      <td>0.511</td>\n",
       "      <td>2</td>\n",
       "      <td>-4.768</td>\n",
       "      <td>1</td>\n",
       "      <td>0.4200</td>\n",
       "      <td>0.02510</td>\n",
       "      <td>0.000000</td>\n",
       "      <td>0.1400</td>\n",
       "      <td>0.568</td>\n",
       "      <td>120.080</td>\n",
       "      <td>hip hop</td>\n",
       "    </tr>\n",
       "    <tr>\n",
       "      <th>1922</th>\n",
       "      <td>Mabel</td>\n",
       "      <td>Mad Love</td>\n",
       "      <td>169813</td>\n",
       "      <td>False</td>\n",
       "      <td>2019</td>\n",
       "      <td>0</td>\n",
       "      <td>0.631</td>\n",
       "      <td>0.803</td>\n",
       "      <td>0</td>\n",
       "      <td>-2.974</td>\n",
       "      <td>0</td>\n",
       "      <td>0.1550</td>\n",
       "      <td>0.67500</td>\n",
       "      <td>0.000000</td>\n",
       "      <td>0.1100</td>\n",
       "      <td>0.620</td>\n",
       "      <td>198.065</td>\n",
       "      <td>pop, Dance/Electronic</td>\n",
       "    </tr>\n",
       "  </tbody>\n",
       "</table>\n",
       "<p>126 rows × 18 columns</p>\n",
       "</div>"
      ],
      "text/plain": [
       "               artist                                               song  \\\n",
       "59              Oasis                                      Go Let It Out   \n",
       "62       Mariah Carey  Against All Odds (Take A Look at Me Now) (feat...   \n",
       "126    Jennifer Lopez                                     Ain't It Funny   \n",
       "175      DB Boulevard                         Point Of View - Radio Edit   \n",
       "182   Musiq Soulchild                                               Love   \n",
       "...               ...                                                ...   \n",
       "1789             CNCO                            Reggaetón Lento (Remix)   \n",
       "1794     Shawn Mendes                                              Mercy   \n",
       "1850      Loud Luxury                                Body (feat. brando)   \n",
       "1913       NLE Choppa               Shotta Flow (feat. Blueface) [Remix]   \n",
       "1922            Mabel                                           Mad Love   \n",
       "\n",
       "      duration_ms  explicit  year  popularity  danceability  energy  key  \\\n",
       "59         278666     False  2000           0         0.408   0.849    2   \n",
       "62         199480     False  2011           0         0.471   0.514    1   \n",
       "126        246160     False  2001           0         0.707   0.869    5   \n",
       "175        231166     False  2018           0         0.676   0.715    6   \n",
       "182        304666     False  2000           0         0.569   0.385    1   \n",
       "...           ...       ...   ...         ...           ...     ...  ...   \n",
       "1789       188786     False  2017           0         0.623   0.909    4   \n",
       "1794       208733     False  2017           0         0.561   0.674    4   \n",
       "1850       163216     False  2017           0         0.752   0.764    1   \n",
       "1913       176631      True  2019           0         0.894   0.511    2   \n",
       "1922       169813     False  2019           0         0.631   0.803    0   \n",
       "\n",
       "      loudness  mode  speechiness  acousticness  instrumentalness  liveness  \\\n",
       "59      -5.631     1       0.0333       0.01360          0.000025    0.5600   \n",
       "62      -5.599     1       0.0315       0.58400          0.000000    0.1030   \n",
       "126     -4.525     0       0.0481       0.10400          0.000121    0.0813   \n",
       "175     -6.854     1       0.0287       0.00284          0.074600    0.0685   \n",
       "182     -9.919     0       0.0499       0.34200          0.000000    0.0876   \n",
       "...        ...   ...          ...           ...               ...       ...   \n",
       "1789    -3.079     0       0.0758       0.15800          0.000000    0.0972   \n",
       "1794    -4.882     0       0.0818       0.11800          0.000000    0.1110   \n",
       "1850    -4.399     1       0.0380       0.04760          0.000094    0.0543   \n",
       "1913    -4.768     1       0.4200       0.02510          0.000000    0.1400   \n",
       "1922    -2.974     0       0.1550       0.67500          0.000000    0.1100   \n",
       "\n",
       "      valence    tempo                  genre  \n",
       "59      0.628   84.192    Folk/Acoustic, rock  \n",
       "62      0.373  117.338               pop, R&B  \n",
       "126     0.621   99.825      hip hop, pop, R&B  \n",
       "175     0.275  129.006       Dance/Electronic  \n",
       "182     0.339   99.738               pop, R&B  \n",
       "...       ...      ...                    ...  \n",
       "1789    0.651   93.984             pop, latin  \n",
       "1794    0.383  148.127                    pop  \n",
       "1850    0.582  121.958  pop, Dance/Electronic  \n",
       "1913    0.568  120.080                hip hop  \n",
       "1922    0.620  198.065  pop, Dance/Electronic  \n",
       "\n",
       "[126 rows x 18 columns]"
      ]
     },
     "execution_count": 21,
     "metadata": {},
     "output_type": "execute_result"
    }
   ],
   "source": [
    "df.loc[df.popularity == 0]"
   ]
  },
  {
   "cell_type": "code",
   "execution_count": 22,
   "id": "ed1f5284",
   "metadata": {},
   "outputs": [
    {
     "data": {
      "text/plain": [
       "860               Mariah Carey\n",
       "1626               Cheat Codes\n",
       "1617                  Astrid S\n",
       "778                  Jim Jones\n",
       "1750            Kendrick Lamar\n",
       "1751    A Boogie Wit da Hoodie\n",
       "1922                     Mabel\n",
       "1602             Justin Bieber\n",
       "1600                The Weeknd\n",
       "835                Miley Cyrus\n",
       "1721        Axwell /\\ Ingrosso\n",
       "1727              Travis Scott\n",
       "1757             Martin Jensen\n",
       "1913                NLE Choppa\n",
       "899                     T-Pain\n",
       "1591                     BØRNS\n",
       "1589                      Zedd\n",
       "1585            Ellie Goulding\n",
       "1106            Alexandra Stan\n",
       "1543             Years & Years\n",
       "Name: artist, dtype: object"
      ]
     },
     "execution_count": 22,
     "metadata": {},
     "output_type": "execute_result"
    }
   ],
   "source": [
    "df.sort_values('popularity', axis=0, ascending=True)['artist'].head(20)"
   ]
  },
  {
   "cell_type": "code",
   "execution_count": 23,
   "id": "7b560318",
   "metadata": {},
   "outputs": [
    {
     "data": {
      "text/plain": [
       "1344       Arctic Monkeys\n",
       "1326       Arctic Monkeys\n",
       "1700           Ed Sheeran\n",
       "1511           The Weeknd\n",
       "1910        Lewis Capaldi\n",
       "1905        Gesaffelstein\n",
       "1227           Bruno Mars\n",
       "1304           Bruno Mars\n",
       "1999          Post Malone\n",
       "1512    The Neighbourhood\n",
       "1514               Avicii\n",
       "1709           Ed Sheeran\n",
       "209                Eminem\n",
       "1929        Billie Eilish\n",
       "1613               WILLOW\n",
       "6                  Eminem\n",
       "1819        Billie Eilish\n",
       "201                Eminem\n",
       "1311            Tom Odell\n",
       "1322    The Neighbourhood\n",
       "Name: artist, dtype: object"
      ]
     },
     "execution_count": 23,
     "metadata": {},
     "output_type": "execute_result"
    }
   ],
   "source": [
    "df.sort_values('popularity', axis=0, ascending=True)['artist'].tail(20)"
   ]
  },
  {
   "cell_type": "code",
   "execution_count": 24,
   "id": "da047cac",
   "metadata": {},
   "outputs": [
    {
     "data": {
      "text/plain": [
       "860                            Touch My Body\n",
       "1626                                     Sex\n",
       "1617                           Hurts So Good\n",
       "778                              We Fly High\n",
       "1750                                    DNA.\n",
       "1751            Drowning (feat. Kodak Black)\n",
       "1922                                Mad Love\n",
       "1602                           Love Yourself\n",
       "1600                                 Starboy\n",
       "835                            See You Again\n",
       "1721                      More Than You Know\n",
       "1727                        BUTTERFLY EFFECT\n",
       "1757                              Solo Dance\n",
       "1913    Shotta Flow (feat. Blueface) [Remix]\n",
       "899      Can't Believe It (feat. Lil' Wayne)\n",
       "1591                           Electric Love\n",
       "1589                      I Want You To Know\n",
       "1585                              On My Mind\n",
       "1106                            Mr. Saxobeat\n",
       "1543                                    King\n",
       "Name: song, dtype: object"
      ]
     },
     "execution_count": 24,
     "metadata": {},
     "output_type": "execute_result"
    }
   ],
   "source": [
    "df.sort_values('popularity', axis=0, ascending=True)['song'].head(20)"
   ]
  },
  {
   "cell_type": "code",
   "execution_count": 25,
   "id": "87321e71",
   "metadata": {},
   "outputs": [
    {
     "data": {
      "text/plain": [
       "1344                            Do I Wanna Know?\n",
       "1326    Why'd You Only Call Me When You're High?\n",
       "1700                                Shape of You\n",
       "1511                                   The Hills\n",
       "1910                           Someone You Loved\n",
       "1905         Lost in the Fire (feat. The Weeknd)\n",
       "1227                        Locked out of Heaven\n",
       "1304                        Locked out of Heaven\n",
       "1999                                     Circles\n",
       "1512                                Daddy Issues\n",
       "1514                                  The Nights\n",
       "1709                                     Perfect\n",
       "209                             'Till I Collapse\n",
       "1929                        lovely (with Khalid)\n",
       "1613                              Wait a Minute!\n",
       "6                            The Real Slim Shady\n",
       "1819                        lovely (with Khalid)\n",
       "201                                   Without Me\n",
       "1311                                Another Love\n",
       "1322                             Sweater Weather\n",
       "Name: song, dtype: object"
      ]
     },
     "execution_count": 25,
     "metadata": {},
     "output_type": "execute_result"
    }
   ],
   "source": [
    "df.sort_values('popularity', axis=0, ascending=True)['song'].tail(20)"
   ]
  },
  {
   "cell_type": "code",
   "execution_count": 26,
   "id": "4c72cc9d",
   "metadata": {},
   "outputs": [],
   "source": [
    "top_genres = ['pop','rock','metal','country','hip hop']\n",
    "df_genre = df[df.genre.isin(top_genres)]"
   ]
  },
  {
   "cell_type": "markdown",
   "id": "790eb9bc",
   "metadata": {},
   "source": [
    "### Density Graphs on songs metadata based on top genres"
   ]
  },
  {
   "cell_type": "code",
   "execution_count": 27,
   "id": "cfe0e1fe",
   "metadata": {},
   "outputs": [
    {
     "data": {
      "image/png": "[encoded data removed]",
      "text/plain": [
       "<Figure size 1008x576 with 1 Axes>"
      ]
     },
     "metadata": {
      "needs_background": "light"
     },
     "output_type": "display_data"
    }
   ],
   "source": [
    "plt.figure(figsize=(14, 8))\n",
    "sns.kdeplot(data = df_genre, x='popularity',hue='genre',multiple='fill',alpha=0.3)\n",
    "plt.show()"
   ]
  },
  {
   "cell_type": "code",
   "execution_count": 28,
   "id": "0c264db4",
   "metadata": {},
   "outputs": [
    {
     "data": {
      "image/png": "[encoded data removed]",
      "text/plain": [
       "<Figure size 1008x576 with 1 Axes>"
      ]
     },
     "metadata": {
      "needs_background": "light"
     },
     "output_type": "display_data"
    }
   ],
   "source": [
    "plt.figure(figsize=(14, 8))\n",
    "sns.kdeplot(data = df_genre, x='loudness',hue='genre',multiple='fill',alpha=0.3)\n",
    "plt.show()"
   ]
  },
  {
   "cell_type": "code",
   "execution_count": 29,
   "id": "ed827a78",
   "metadata": {},
   "outputs": [
    {
     "data": {
      "image/png": "[encoded data removed]",
      "text/plain": [
       "<Figure size 1008x576 with 1 Axes>"
      ]
     },
     "metadata": {
      "needs_background": "light"
     },
     "output_type": "display_data"
    }
   ],
   "source": [
    "plt.figure(figsize=(14, 8))\n",
    "sns.kdeplot(data = df_genre, x='tempo',hue='genre',multiple='fill',alpha=0.3)\n",
    "plt.show()"
   ]
  },
  {
   "cell_type": "code",
   "execution_count": 30,
   "id": "c01b2122",
   "metadata": {},
   "outputs": [
    {
     "data": {
      "image/png": "[encoded data removed]",
      "text/plain": [
       "<Figure size 1008x576 with 1 Axes>"
      ]
     },
     "metadata": {
      "needs_background": "light"
     },
     "output_type": "display_data"
    }
   ],
   "source": [
    "plt.figure(figsize=(14, 8))\n",
    "sns.kdeplot(data = df_genre, x='energy',hue='genre',multiple='fill',alpha=0.3)\n",
    "plt.show()"
   ]
  },
  {
   "cell_type": "markdown",
   "id": "095696cd",
   "metadata": {},
   "source": [
    "### Finding outlier songs"
   ]
  },
  {
   "cell_type": "code",
   "execution_count": 31,
   "id": "9ee86264",
   "metadata": {},
   "outputs": [
    {
     "data": {
      "text/plain": [
       "artist              Justin Timberlake\n",
       "song                          Mirrors\n",
       "duration_ms                    484146\n",
       "explicit                        False\n",
       "year                             2013\n",
       "popularity                         78\n",
       "danceability                    0.574\n",
       "energy                          0.512\n",
       "key                                 5\n",
       "loudness                       -6.664\n",
       "mode                                0\n",
       "speechiness                    0.0503\n",
       "acousticness                    0.234\n",
       "instrumentalness                  0.0\n",
       "liveness                       0.0946\n",
       "valence                         0.512\n",
       "tempo                          76.899\n",
       "genre                             pop\n",
       "Name: 1381, dtype: object"
      ]
     },
     "execution_count": 31,
     "metadata": {},
     "output_type": "execute_result"
    }
   ],
   "source": [
    "# Longest Song\n",
    "df.iloc[df.duration_ms.idxmax()]"
   ]
  },
  {
   "cell_type": "code",
   "execution_count": 32,
   "id": "4d241d42",
   "metadata": {},
   "outputs": [
    {
     "data": {
      "text/plain": [
       "artist                  Lil Nas X\n",
       "song                Old Town Road\n",
       "duration_ms                113000\n",
       "explicit                    False\n",
       "year                         2019\n",
       "popularity                     76\n",
       "danceability                0.907\n",
       "energy                       0.53\n",
       "key                             1\n",
       "loudness                   -6.112\n",
       "mode                            1\n",
       "speechiness                 0.127\n",
       "acousticness               0.0578\n",
       "instrumentalness         0.000002\n",
       "liveness                    0.101\n",
       "valence                     0.507\n",
       "tempo                     135.998\n",
       "genre                hip hop, pop\n",
       "Name: 1931, dtype: object"
      ]
     },
     "execution_count": 32,
     "metadata": {},
     "output_type": "execute_result"
    }
   ],
   "source": [
    "# Shortest Song\n",
    "df.iloc[df.duration_ms.idxmin()]"
   ]
  },
  {
   "cell_type": "code",
   "execution_count": 33,
   "id": "6f37e835",
   "metadata": {},
   "outputs": [
    {
     "data": {
      "text/plain": [
       "artist              The Neighbourhood\n",
       "song                  Sweater Weather\n",
       "duration_ms                    240400\n",
       "explicit                        False\n",
       "year                             2013\n",
       "popularity                         89\n",
       "danceability                    0.612\n",
       "energy                          0.807\n",
       "key                                10\n",
       "loudness                        -2.81\n",
       "mode                                1\n",
       "speechiness                    0.0336\n",
       "acousticness                   0.0495\n",
       "instrumentalness               0.0177\n",
       "liveness                        0.101\n",
       "valence                         0.398\n",
       "tempo                         124.053\n",
       "genre                       rock, pop\n",
       "Name: 1322, dtype: object"
      ]
     },
     "execution_count": 33,
     "metadata": {},
     "output_type": "execute_result"
    }
   ],
   "source": [
    "# Most Popular Song\n",
    "df.iloc[df.popularity.idxmax()]"
   ]
  },
  {
   "cell_type": "code",
   "execution_count": 34,
   "id": "a0a1030e",
   "metadata": {},
   "outputs": [
    {
     "data": {
      "text/plain": [
       "artist                            Oasis\n",
       "song                      Go Let It Out\n",
       "duration_ms                      278666\n",
       "explicit                          False\n",
       "year                               2000\n",
       "popularity                            0\n",
       "danceability                      0.408\n",
       "energy                            0.849\n",
       "key                                   2\n",
       "loudness                         -5.631\n",
       "mode                                  1\n",
       "speechiness                      0.0333\n",
       "acousticness                     0.0136\n",
       "instrumentalness               0.000025\n",
       "liveness                           0.56\n",
       "valence                           0.628\n",
       "tempo                            84.192\n",
       "genre               Folk/Acoustic, rock\n",
       "Name: 59, dtype: object"
      ]
     },
     "execution_count": 34,
     "metadata": {},
     "output_type": "execute_result"
    }
   ],
   "source": [
    "# Least Popular Song\n",
    "df.iloc[df.popularity.idxmin()]"
   ]
  },
  {
   "cell_type": "code",
   "execution_count": 35,
   "id": "18fd7dd5",
   "metadata": {},
   "outputs": [
    {
     "data": {
      "text/plain": [
       "artist                            La Roux\n",
       "song                      In For The Kill\n",
       "duration_ms                        248626\n",
       "explicit                            False\n",
       "year                                 2009\n",
       "popularity                             59\n",
       "danceability                        0.629\n",
       "energy                              0.969\n",
       "key                                     8\n",
       "loudness                           -0.276\n",
       "mode                                    0\n",
       "speechiness                        0.0455\n",
       "acousticness                      0.00184\n",
       "instrumentalness                      0.0\n",
       "liveness                            0.122\n",
       "valence                             0.905\n",
       "tempo                              150.01\n",
       "genre               pop, Dance/Electronic\n",
       "Name: 971, dtype: object"
      ]
     },
     "execution_count": 35,
     "metadata": {},
     "output_type": "execute_result"
    }
   ],
   "source": [
    "#Highest Loudness\n",
    "df.iloc[df.loudness.idxmax()]"
   ]
  },
  {
   "cell_type": "code",
   "execution_count": 36,
   "id": "8dec1898",
   "metadata": {},
   "outputs": [
    {
     "data": {
      "text/plain": [
       "artist                                                     Ed Sheeran\n",
       "song                I See Fire - From \"The Hobbit - The Desolation...\n",
       "duration_ms                                                    300840\n",
       "explicit                                                        False\n",
       "year                                                             2013\n",
       "popularity                                                         71\n",
       "danceability                                                    0.581\n",
       "energy                                                         0.0549\n",
       "key                                                                10\n",
       "loudness                                                      -20.514\n",
       "mode                                                                0\n",
       "speechiness                                                    0.0397\n",
       "acousticness                                                    0.559\n",
       "instrumentalness                                                  0.0\n",
       "liveness                                                       0.0718\n",
       "valence                                                         0.234\n",
       "tempo                                                         152.037\n",
       "genre                                                             pop\n",
       "Name: 1492, dtype: object"
      ]
     },
     "execution_count": 36,
     "metadata": {},
     "output_type": "execute_result"
    }
   ],
   "source": [
    "#Lowest Loudness\n",
    "df.iloc[df.loudness.idxmin()]"
   ]
  },
  {
   "cell_type": "code",
   "execution_count": 37,
   "id": "36506acb",
   "metadata": {},
   "outputs": [
    {
     "data": {
      "text/plain": [
       "artist                             MiMS\n",
       "song                This Is Why I'm Hot\n",
       "duration_ms                      253706\n",
       "explicit                           True\n",
       "year                               2007\n",
       "popularity                           59\n",
       "danceability                      0.621\n",
       "energy                              0.6\n",
       "key                                   8\n",
       "loudness                         -6.349\n",
       "mode                                  1\n",
       "speechiness                       0.576\n",
       "acousticness                      0.277\n",
       "instrumentalness                    0.0\n",
       "liveness                          0.495\n",
       "valence                           0.485\n",
       "tempo                            80.021\n",
       "genre                      hip hop, pop\n",
       "Name: 736, dtype: object"
      ]
     },
     "execution_count": 37,
     "metadata": {},
     "output_type": "execute_result"
    }
   ],
   "source": [
    "#Highest speechiness\n",
    "df.iloc[df.speechiness.idxmax()]"
   ]
  },
  {
   "cell_type": "code",
   "execution_count": 38,
   "id": "22cedaee",
   "metadata": {},
   "outputs": [
    {
     "data": {
      "text/plain": [
       "artist              Ed Sheeran\n",
       "song                   Perfect\n",
       "duration_ms             263400\n",
       "explicit                 False\n",
       "year                      2017\n",
       "popularity                  85\n",
       "danceability             0.599\n",
       "energy                   0.448\n",
       "key                          8\n",
       "loudness                -6.312\n",
       "mode                         1\n",
       "speechiness             0.0232\n",
       "acousticness             0.163\n",
       "instrumentalness           0.0\n",
       "liveness                 0.106\n",
       "valence                  0.168\n",
       "tempo                    95.05\n",
       "genre                      pop\n",
       "Name: 1709, dtype: object"
      ]
     },
     "execution_count": 38,
     "metadata": {},
     "output_type": "execute_result"
    }
   ],
   "source": [
    "#Lowest speechiness\n",
    "df.iloc[df.speechiness.idxmin()]"
   ]
  },
  {
   "cell_type": "code",
   "execution_count": 39,
   "id": "0ae77d08",
   "metadata": {},
   "outputs": [
    {
     "data": {
      "text/plain": [
       "artist                                     Gary Jules\n",
       "song                Mad World (Feat. Michael Andrews)\n",
       "duration_ms                                    189506\n",
       "explicit                                        False\n",
       "year                                             2001\n",
       "popularity                                         65\n",
       "danceability                                    0.345\n",
       "energy                                         0.0581\n",
       "key                                                 3\n",
       "loudness                                      -17.217\n",
       "mode                                                1\n",
       "speechiness                                    0.0374\n",
       "acousticness                                    0.976\n",
       "instrumentalness                             0.000366\n",
       "liveness                                        0.103\n",
       "valence                                         0.304\n",
       "tempo                                         174.117\n",
       "genre                                             pop\n",
       "Name: 496, dtype: object"
      ]
     },
     "execution_count": 39,
     "metadata": {},
     "output_type": "execute_result"
    }
   ],
   "source": [
    "#Highest acousticness\n",
    "df.iloc[df.acousticness.idxmax()]"
   ]
  },
  {
   "cell_type": "code",
   "execution_count": 40,
   "id": "0e86d616",
   "metadata": {},
   "outputs": [
    {
     "data": {
      "text/plain": [
       "artist                                            Electric Six\n",
       "song                Danger! High Voltage - Soulchild Radio Mix\n",
       "duration_ms                                             214600\n",
       "explicit                                                 False\n",
       "year                                                      2003\n",
       "popularity                                                   0\n",
       "danceability                                              0.66\n",
       "energy                                                   0.698\n",
       "key                                                         11\n",
       "loudness                                                -4.722\n",
       "mode                                                         0\n",
       "speechiness                                             0.0302\n",
       "acousticness                                          0.000019\n",
       "instrumentalness                                         0.166\n",
       "liveness                                                0.0517\n",
       "valence                                                  0.511\n",
       "tempo                                                  123.005\n",
       "genre                                                     rock\n",
       "Name: 363, dtype: object"
      ]
     },
     "execution_count": 40,
     "metadata": {},
     "output_type": "execute_result"
    }
   ],
   "source": [
    "#Lowest acousticness\n",
    "df.iloc[df.acousticness.idxmin()]"
   ]
  },
  {
   "cell_type": "code",
   "execution_count": 41,
   "id": "67f25a0a",
   "metadata": {},
   "outputs": [
    {
     "data": {
      "text/plain": [
       "artist                             Darude\n",
       "song                            Sandstorm\n",
       "duration_ms                        225493\n",
       "explicit                            False\n",
       "year                                 2001\n",
       "popularity                             69\n",
       "danceability                        0.528\n",
       "energy                              0.965\n",
       "key                                    11\n",
       "loudness                           -7.984\n",
       "mode                                    0\n",
       "speechiness                        0.0465\n",
       "acousticness                        0.141\n",
       "instrumentalness                    0.985\n",
       "liveness                           0.0797\n",
       "valence                             0.587\n",
       "tempo                             136.065\n",
       "genre               pop, Dance/Electronic\n",
       "Name: 26, dtype: object"
      ]
     },
     "execution_count": 41,
     "metadata": {},
     "output_type": "execute_result"
    }
   ],
   "source": [
    "#Highest instrumentalness\n",
    "df.iloc[df.instrumentalness.idxmax()]"
   ]
  },
  {
   "cell_type": "code",
   "execution_count": 42,
   "id": "6d8c5353",
   "metadata": {},
   "outputs": [
    {
     "data": {
      "text/plain": [
       "artist                         blink-182\n",
       "song                All The Small Things\n",
       "duration_ms                       167066\n",
       "explicit                           False\n",
       "year                                1999\n",
       "popularity                            79\n",
       "danceability                       0.434\n",
       "energy                             0.897\n",
       "key                                    0\n",
       "loudness                          -4.918\n",
       "mode                                   1\n",
       "speechiness                       0.0488\n",
       "acousticness                      0.0103\n",
       "instrumentalness                     0.0\n",
       "liveness                           0.612\n",
       "valence                            0.684\n",
       "tempo                            148.726\n",
       "genre                          rock, pop\n",
       "Name: 1, dtype: object"
      ]
     },
     "execution_count": 42,
     "metadata": {},
     "output_type": "execute_result"
    }
   ],
   "source": [
    "#Lowest instrumentalness\n",
    "df.iloc[df.instrumentalness.idxmin()]"
   ]
  },
  {
   "cell_type": "code",
   "execution_count": 43,
   "id": "009c6c53",
   "metadata": {},
   "outputs": [
    {
     "data": {
      "text/plain": [
       "artist                          Michel Teló\n",
       "song                Ai Se Eu Te Pego - Live\n",
       "duration_ms                          166866\n",
       "explicit                              False\n",
       "year                                   2012\n",
       "popularity                                0\n",
       "danceability                          0.676\n",
       "energy                                0.935\n",
       "key                                      11\n",
       "loudness                              -4.55\n",
       "mode                                      1\n",
       "speechiness                          0.0692\n",
       "acousticness                          0.357\n",
       "instrumentalness                        0.0\n",
       "liveness                              0.853\n",
       "valence                                0.85\n",
       "tempo                                96.055\n",
       "genre                        country, latin\n",
       "Name: 1240, dtype: object"
      ]
     },
     "execution_count": 43,
     "metadata": {},
     "output_type": "execute_result"
    }
   ],
   "source": [
    "#Highest liveness\n",
    "df.iloc[df.liveness.idxmax()]"
   ]
  },
  {
   "cell_type": "code",
   "execution_count": 44,
   "id": "2c98f65e",
   "metadata": {},
   "outputs": [
    {
     "data": {
      "text/plain": [
       "artist                                  Bruno Mars\n",
       "song                Finesse - Remix; feat. Cardi B\n",
       "duration_ms                                 217288\n",
       "explicit                                     False\n",
       "year                                          2017\n",
       "popularity                                      74\n",
       "danceability                                 0.704\n",
       "energy                                       0.859\n",
       "key                                              5\n",
       "loudness                                    -4.877\n",
       "mode                                             0\n",
       "speechiness                                 0.0996\n",
       "acousticness                                0.0185\n",
       "instrumentalness                               0.0\n",
       "liveness                                    0.0215\n",
       "valence                                      0.926\n",
       "tempo                                      105.115\n",
       "genre                                          pop\n",
       "Name: 1882, dtype: object"
      ]
     },
     "execution_count": 44,
     "metadata": {},
     "output_type": "execute_result"
    }
   ],
   "source": [
    "#Lowest liveness\n",
    "df.iloc[df.liveness.idxmin()]"
   ]
  },
  {
   "cell_type": "code",
   "execution_count": 45,
   "id": "95bd296d",
   "metadata": {},
   "outputs": [
    {
     "data": {
      "text/plain": [
       "artist                      Timbaland\n",
       "song                    Give It To Me\n",
       "duration_ms                    234026\n",
       "explicit                         True\n",
       "year                             2007\n",
       "popularity                         70\n",
       "danceability                    0.975\n",
       "energy                          0.711\n",
       "key                                 8\n",
       "loudness                       -3.904\n",
       "mode                                1\n",
       "speechiness                    0.0632\n",
       "acousticness                    0.168\n",
       "instrumentalness             0.000552\n",
       "liveness                       0.0799\n",
       "valence                         0.815\n",
       "tempo                         110.621\n",
       "genre               hip hop, pop, R&B\n",
       "Name: 714, dtype: object"
      ]
     },
     "execution_count": 45,
     "metadata": {},
     "output_type": "execute_result"
    }
   ],
   "source": [
    "#Highest danceability\n",
    "df.iloc[df.danceability.idxmax()]"
   ]
  },
  {
   "cell_type": "code",
   "execution_count": 46,
   "id": "631c0b68",
   "metadata": {},
   "outputs": [
    {
     "data": {
      "text/plain": [
       "artist                     Westlife\n",
       "song                You Raise Me Up\n",
       "duration_ms                  241066\n",
       "explicit                      False\n",
       "year                           2005\n",
       "popularity                        1\n",
       "danceability                  0.129\n",
       "energy                        0.358\n",
       "key                              10\n",
       "loudness                     -6.596\n",
       "mode                              1\n",
       "speechiness                  0.0314\n",
       "acousticness                  0.631\n",
       "instrumentalness                0.0\n",
       "liveness                     0.0886\n",
       "valence                       0.172\n",
       "tempo                        75.048\n",
       "genre                           pop\n",
       "Name: 573, dtype: object"
      ]
     },
     "execution_count": 46,
     "metadata": {},
     "output_type": "execute_result"
    }
   ],
   "source": [
    "#Highest danceability\n",
    "df.iloc[df.danceability.idxmin()]"
   ]
  },
  {
   "cell_type": "markdown",
   "id": "2c21a875",
   "metadata": {},
   "source": [
    "### Dive into the pop genre"
   ]
  },
  {
   "cell_type": "code",
   "execution_count": 47,
   "id": "fe0b5819",
   "metadata": {},
   "outputs": [
    {
     "data": {
      "text/plain": [
       "(428, 18)"
      ]
     },
     "execution_count": 47,
     "metadata": {},
     "output_type": "execute_result"
    }
   ],
   "source": [
    "df_pop = df[df.genre == 'pop']\n",
    "df_pop.shape"
   ]
  },
  {
   "cell_type": "code",
   "execution_count": 48,
   "id": "18ef4f52",
   "metadata": {},
   "outputs": [
    {
     "data": {
      "text/plain": [
       "Britney Spears       19\n",
       "Katy Perry           16\n",
       "Taylor Swift         16\n",
       "P!nk                 15\n",
       "Ariana Grande        14\n",
       "Maroon 5             13\n",
       "Bruno Mars           12\n",
       "Justin Timberlake    12\n",
       "Lady Gaga            11\n",
       "Justin Bieber        10\n",
       "Name: artist, dtype: int64"
      ]
     },
     "execution_count": 48,
     "metadata": {},
     "output_type": "execute_result"
    }
   ],
   "source": [
    "df_pop.artist.value_counts().head(10)"
   ]
  },
  {
   "cell_type": "code",
   "execution_count": 49,
   "id": "33209152",
   "metadata": {},
   "outputs": [
    {
     "data": {
      "text/plain": [
       "PSY                 1\n",
       "Charli Baltimore    1\n",
       "DJ Sammy            1\n",
       "Labrinth            1\n",
       "Matt Cardle         1\n",
       "Kris Allen          1\n",
       "Big Brovaz          1\n",
       "A1                  1\n",
       "INNA                1\n",
       "BTS                 1\n",
       "Name: artist, dtype: int64"
      ]
     },
     "execution_count": 49,
     "metadata": {},
     "output_type": "execute_result"
    }
   ],
   "source": [
    "df_pop.artist.value_counts().tail(10)"
   ]
  },
  {
   "cell_type": "code",
   "execution_count": 50,
   "id": "d8c09f7e",
   "metadata": {},
   "outputs": [
    {
     "data": {
      "text/plain": [
       "<AxesSubplot:xlabel='year'>"
      ]
     },
     "execution_count": 50,
     "metadata": {},
     "output_type": "execute_result"
    },
    {
     "data": {
      "image/png": "[encoded data removed]",
      "text/plain": [
       "<Figure size 432x288 with 1 Axes>"
      ]
     },
     "metadata": {
      "needs_background": "light"
     },
     "output_type": "display_data"
    }
   ],
   "source": [
    "df_Britney = df_pop[df_pop.artist == 'Britney Spears']\n",
    "df_Britney.plot(x='year', y='popularity')"
   ]
  },
  {
   "cell_type": "code",
   "execution_count": 51,
   "id": "2d421f18",
   "metadata": {},
   "outputs": [
    {
     "data": {
      "text/plain": [
       "<AxesSubplot:xlabel='year'>"
      ]
     },
     "execution_count": 51,
     "metadata": {},
     "output_type": "execute_result"
    },
    {
     "data": {
      "image/png": "[encoded data removed]",
      "text/plain": [
       "<Figure size 432x288 with 1 Axes>"
      ]
     },
     "metadata": {
      "needs_background": "light"
     },
     "output_type": "display_data"
    }
   ],
   "source": [
    "df_CPuth = df_pop[df_pop.artist == 'Charlie Puth']\n",
    "df_CPuth.plot(x='year', y='popularity')"
   ]
  },
  {
   "cell_type": "code",
   "execution_count": 52,
   "id": "535311d0",
   "metadata": {},
   "outputs": [
    {
     "data": {
      "text/plain": [
       "<AxesSubplot:>"
      ]
     },
     "execution_count": 52,
     "metadata": {},
     "output_type": "execute_result"
    },
    {
     "data": {
      "image/png": "[encoded data removed]",
      "text/plain": [
       "<Figure size 432x288 with 1 Axes>"
      ]
     },
     "metadata": {
      "needs_background": "light"
     },
     "output_type": "display_data"
    }
   ],
   "source": [
    "df_Britney.popularity.plot()"
   ]
  },
  {
   "cell_type": "code",
   "execution_count": null,
   "id": "e5701d1e",
   "metadata": {},
   "outputs": [],
   "source": []
  },
  {
   "cell_type": "code",
   "execution_count": 53,
   "id": "afb01c24",
   "metadata": {},
   "outputs": [
    {
     "data": {
      "text/plain": [
       "<AxesSubplot:xlabel='year'>"
      ]
     },
     "execution_count": 53,
     "metadata": {},
     "output_type": "execute_result"
    },
    {
     "data": {
      "image/png": "[encoded data removed]",
      "text/plain": [
       "<Figure size 432x288 with 1 Axes>"
      ]
     },
     "metadata": {
      "needs_background": "light"
     },
     "output_type": "display_data"
    }
   ],
   "source": [
    "#Number of songs per year\n",
    "df.groupby(\"year\")[\"song\"].count().plot()"
   ]
  },
  {
   "cell_type": "code",
   "execution_count": 54,
   "id": "938160b5",
   "metadata": {},
   "outputs": [
    {
     "name": "stderr",
     "output_type": "stream",
     "text": [
      "/Users/nicholasmai/opt/anaconda3/lib/python3.9/site-packages/seaborn/distributions.py:2619: FutureWarning: `distplot` is a deprecated function and will be removed in a future version. Please adapt your code to use either `displot` (a figure-level function with similar flexibility) or `histplot` (an axes-level function for histograms).\n",
      "  warnings.warn(msg, FutureWarning)\n"
     ]
    },
    {
     "data": {
      "text/plain": [
       "<AxesSubplot:xlabel='popularity', ylabel='Density'>"
      ]
     },
     "execution_count": 54,
     "metadata": {},
     "output_type": "execute_result"
    },
    {
     "data": {
      "image/png": "[encoded data removed]",
      "text/plain": [
       "<Figure size 1008x432 with 1 Axes>"
      ]
     },
     "metadata": {
      "needs_background": "light"
     },
     "output_type": "display_data"
    }
   ],
   "source": [
    "plt.figure(figsize=(14, 6))\n",
    "sns.distplot(df.popularity,bins=50,kde=True,norm_hist=False)"
   ]
  },
  {
   "cell_type": "code",
   "execution_count": null,
   "id": "141317c2",
   "metadata": {},
   "outputs": [],
   "source": []
  }
 ],
 "metadata": {
  "kernelspec": {
   "display_name": "Python 3 (ipykernel)",
   "language": "python",
   "name": "python3"
  },
  "language_info": {
   "codemirror_mode": {
    "name": "ipython",
    "version": 3
   },
   "file_extension": ".py",
   "mimetype": "text/x-python",
   "name": "python",
   "nbconvert_exporter": "python",
   "pygments_lexer": "ipython3",
   "version": "3.9.7"
  }
 },
 "nbformat": 4,
 "nbformat_minor": 5
}
